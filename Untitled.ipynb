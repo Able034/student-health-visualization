{
 "cells": [
  {
   "cell_type": "code",
   "execution_count": 14,
   "id": "feff4414-97d7-432c-8c09-169eb127afea",
   "metadata": {},
   "outputs": [
    {
     "data": {
      "application/vnd.jupyter.widget-view+json": {
       "model_id": "da8f4fa4d0064a9db5e99ec6a423ce73",
       "version_major": 2,
       "version_minor": 0
      },
      "text/plain": [
       "HTML(value='<h2>学生吸烟、饮酒与心理健康数据分析</h2>')"
      ]
     },
     "metadata": {},
     "output_type": "display_data"
    },
    {
     "data": {
      "application/vnd.jupyter.widget-view+json": {
       "model_id": "bc9f37ac9de84b9396bf04bbb3a49b6e",
       "version_major": 2,
       "version_minor": 0
      },
      "text/plain": [
       "Dropdown(description='选择问题：', layout=Layout(width='80%'), options=(('1. 吸烟、酒精和心理健康之间相互作用', 'q1'), ('2. 研究领域对于吸…"
      ]
     },
     "metadata": {},
     "output_type": "display_data"
    },
    {
     "data": {
      "application/vnd.jupyter.widget-view+json": {
       "model_id": "eeffbcb68d904c0d81844853ef76e89a",
       "version_major": 2,
       "version_minor": 0
      },
      "text/plain": [
       "Output()"
      ]
     },
     "metadata": {},
     "output_type": "display_data"
    }
   ],
   "source": [
    "import pandas as pd\n",
    "import plotly.express as px\n",
    "import plotly.graph_objects as go\n",
    "import ipywidgets as widgets\n",
    "from IPython.display import display, clear_output\n",
    "\n",
    "# 读取数据\n",
    "df = pd.read_excel('Student Smoking, Alcohol, and Mental Health Data(1)(1).xlsx')\n",
    "df.columns = df.columns.str.strip()\n",
    "\n",
    "# 心理健康排序\n",
    "health_order = ['优秀', '好', '平均', '低于平均水平', '差']\n",
    "\n",
    "# 下拉菜单\n",
    "dropdown = widgets.Dropdown(\n",
    "    options=[\n",
    "        ('1. 吸烟、酒精和心理健康之间相互作用', 'q1'),\n",
    "        ('2. 研究领域对于吸烟、喝酒的作用', 'q2'),\n",
    "        ('3. 年龄与吸烟、喝酒的关系', 'q3'),\n",
    "        ('4. 吸烟与饮酒之间是否有联系', 'q4'),\n",
    "    ],\n",
    "    description='选择问题：',\n",
    "    value='q1',\n",
    "    style={'description_width': 'initial'},\n",
    "    layout=widgets.Layout(width='80%')\n",
    ")\n",
    "\n",
    "# 输出图表\n",
    "output = widgets.Output()\n",
    "\n",
    "def update_graph(change):\n",
    "    output.clear_output()\n",
    "    with output:\n",
    "        selected_q = dropdown.value\n",
    "        if selected_q == 'q1':\n",
    "            # 桑基图\n",
    "            labels = []\n",
    "            smoke_labels = df['吸烟频率'].dropna().unique().tolist()\n",
    "            alcohol_labels = df['酒精消费频率'].dropna().unique().tolist()\n",
    "            health_labels = health_order\n",
    "\n",
    "            labels.extend(smoke_labels)\n",
    "            labels.extend(alcohol_labels)\n",
    "            labels.extend(health_labels)\n",
    "\n",
    "            smoke_idx = {k: i for i, k in enumerate(smoke_labels)}\n",
    "            alcohol_idx = {k: i + len(smoke_labels) for i, k in enumerate(alcohol_labels)}\n",
    "            health_idx = {k: i + len(smoke_labels) + len(alcohol_labels) for i, k in enumerate(health_labels)}\n",
    "\n",
    "            links_source = []\n",
    "            links_target = []\n",
    "            links_value = []\n",
    "\n",
    "            for s in smoke_labels:\n",
    "                sub_df = df[df['吸烟频率'] == s]\n",
    "                counts = sub_df['酒精消费频率'].value_counts()\n",
    "                for a, v in counts.items():\n",
    "                    if pd.isna(a): continue\n",
    "                    links_source.append(smoke_idx[s])\n",
    "                    links_target.append(alcohol_idx[a])\n",
    "                    links_value.append(v)\n",
    "\n",
    "            for a in alcohol_labels:\n",
    "                sub_df = df[df['酒精消费频率'] == a]\n",
    "                counts = sub_df['心理健康'].value_counts()\n",
    "                for h, v in counts.items():\n",
    "                    if pd.isna(h): continue\n",
    "                    if h not in health_idx: continue\n",
    "                    links_source.append(alcohol_idx[a])\n",
    "                    links_target.append(health_idx[h])\n",
    "                    links_value.append(v)\n",
    "\n",
    "            fig = go.Figure(go.Sankey(\n",
    "                node=dict(label=labels, pad=15, thickness=20, color=\"lightblue\"),\n",
    "                link=dict(source=links_source, target=links_target, value=links_value)\n",
    "            ))\n",
    "            fig.update_layout(title_text=\"吸烟、饮酒与心理健康关系（桑基图）\", font_size=12)\n",
    "            fig.show()\n",
    "\n",
    "        elif selected_q == 'q2':\n",
    "            # 分组堆叠图\n",
    "            smoke_ct = pd.crosstab(df['研究领域'], df['吸烟频率'])\n",
    "            fig_smoke = px.bar(\n",
    "                smoke_ct,\n",
    "                labels={'index': '研究领域', 'value': '人数', 'variable': '吸烟频率'},\n",
    "                title='不同研究领域吸烟频率分布',\n",
    "                color_discrete_sequence=px.colors.qualitative.Pastel,\n",
    "                barmode='stack'\n",
    "            )\n",
    "            fig_smoke.show()\n",
    "\n",
    "        elif selected_q == 'q3':\n",
    "            # 年龄与吸烟的箱线图\n",
    "            fig_smoke = px.box(df, x='吸烟频率', y='年龄', color='吸烟频率',\n",
    "                               title='不同吸烟频率对应年龄分布',\n",
    "                               color_discrete_sequence=px.colors.qualitative.Pastel)\n",
    "            fig_smoke.show()\n",
    "\n",
    "        elif selected_q == 'q4':\n",
    "            # 吸烟与饮酒关系热力图\n",
    "            heat = pd.crosstab(df['吸烟频率'], df['酒精消费频率'])\n",
    "            fig = px.imshow(heat,\n",
    "                            labels=dict(x='酒精消费频率', y='吸烟频率', color='人数'),\n",
    "                            color_continuous_scale='Viridis',\n",
    "                            title='吸烟频率与酒精消费频率交叉热力图')\n",
    "            fig.show()\n",
    "\n",
    "# 注册下拉菜单回调\n",
    "dropdown.observe(update_graph, names='value')\n",
    "\n",
    "# 显示界面\n",
    "display(widgets.HTML(\"<h2>学生吸烟、饮酒与心理健康数据分析</h2>\"))\n",
    "display(dropdown)\n",
    "update_graph(None)  # 初始显示\n",
    "display(output)\n"
   ]
  }
 ],
 "metadata": {
  "kernelspec": {
   "display_name": "Python [conda env:base] *",
   "language": "python",
   "name": "conda-base-py"
  },
  "language_info": {
   "codemirror_mode": {
    "name": "ipython",
    "version": 3
   },
   "file_extension": ".py",
   "mimetype": "text/x-python",
   "name": "python",
   "nbconvert_exporter": "python",
   "pygments_lexer": "ipython3",
   "version": "3.12.3"
  }
 },
 "nbformat": 4,
 "nbformat_minor": 5
}
